{
 "cells": [
  {
   "cell_type": "code",
   "execution_count": 17,
   "metadata": {},
   "outputs": [
    {
     "name": "stdout",
     "output_type": "stream",
     "text": [
      "1013\n"
     ]
    }
   ],
   "source": [
    "import json\n",
    "from itertools import combinations\n",
    "\n",
    "def generate_combinations(n):\n",
    "    vertex_list = list(range(0, n))\n",
    "    all_combinations = []\n",
    "\n",
    "    for r in range(2, n+1):\n",
    "        combos = combinations(vertex_list, r)\n",
    "        all_combinations.extend(list(combos))\n",
    "\n",
    "    return all_combinations\n",
    "\n",
    "def save_to_json(combinations, filename):\n",
    "    with open(filename, 'w') as file:\n",
    "        json.dump(combinations, file)\n",
    "\n",
    "if __name__ == \"__main__\":\n",
    "    n = 10  # Wprowadź swoją wartość n\n",
    "    combos = generate_combinations(n)\n",
    "    print( len(combos) )\n",
    "    save_to_json(combos, 'combinations.json')"
   ]
  }
 ],
 "metadata": {
  "kernelspec": {
   "display_name": "Python 3",
   "language": "python",
   "name": "python3"
  },
  "language_info": {
   "codemirror_mode": {
    "name": "ipython",
    "version": 3
   },
   "file_extension": ".py",
   "mimetype": "text/x-python",
   "name": "python",
   "nbconvert_exporter": "python",
   "pygments_lexer": "ipython3",
   "version": "3.11.9"
  }
 },
 "nbformat": 4,
 "nbformat_minor": 2
}
